{
 "cells": [
  {
   "cell_type": "markdown",
   "id": "26d7d513-df23-4727-84fa-74f9cd123558",
   "metadata": {},
   "source": [
    "# Time Series Anomaly Detection Exercises\n",
    "\n",
    "The dataset for these exercises lives in the Codeup Data Science MySQL Server. The database name is curriculum_logs.\n",
    "\n",
    "Go through the lesson commenting code, adding docstrings, and adding markdown to support what is happening.\n",
    "\n",
    "Bonus:\n",
    "\n",
    "Discover users who are accessing our curriculum pages way beyond the end of their codeup time. What would the dataframe look like? Use time series method for detecting anomalies, like exponential moving average with %b.\n",
    "\n",
    "Can you label students who are viewing both the web dev and data science curriculum? Can you label students by the program they are in? Can you label users by student vs. staff?"
   ]
  },
  {
   "cell_type": "code",
   "execution_count": null,
   "id": "19ee48bd-f714-4ad3-aa0f-11ab0a00c726",
   "metadata": {},
   "outputs": [],
   "source": []
  }
 ],
 "metadata": {
  "kernelspec": {
   "display_name": "Python 3",
   "language": "python",
   "name": "python3"
  },
  "language_info": {
   "codemirror_mode": {
    "name": "ipython",
    "version": 3
   },
   "file_extension": ".py",
   "mimetype": "text/x-python",
   "name": "python",
   "nbconvert_exporter": "python",
   "pygments_lexer": "ipython3",
   "version": "3.8.5"
  }
 },
 "nbformat": 4,
 "nbformat_minor": 5
}
