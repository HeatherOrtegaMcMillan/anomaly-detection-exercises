{
 "cells": [
  {
   "cell_type": "markdown",
   "id": "b98d7b21-0719-4090-a455-72d14ac36f2c",
   "metadata": {},
   "source": [
    "# Anomaly Detection Through Clustering Exercises\n",
    "1. Use DBSCAN to detect anomalies in other products from the customers dataset. The database name is grocery_db.\n",
    "2. Use DBSCAN to detect anomalies in requests from the curriculum access logs in the curriculum_logs database.\n",
    "3. Use DBSCAN to detect anomalies in number of bedrooms and finished square feet of property for the filtered dataset you used in the clustering project (single unit properties with a logerror)."
   ]
  },
  {
   "cell_type": "code",
   "execution_count": 1,
   "id": "be2da365-cef0-49f3-b980-dc57fa6061a4",
   "metadata": {},
   "outputs": [],
   "source": [
    "#imports\n",
    "import pandas as pd\n",
    "import numpy as np\n",
    "\n",
    "# visualization\n",
    "import matplotlib.pyplot as plt\n",
    "from mpl_toolkits.mplot3d import Axes3D\n",
    "# %matplotlib qt\n",
    "import seaborn as sns\n",
    "# sklearn for scaling and clustering:\n",
    "from sklearn.preprocessing import MinMaxScaler\n",
    "from sklearn.cluster import DBSCAN\n",
    "\n",
    "# import custom modules\n",
    "import prepare as p"
   ]
  },
  {
   "cell_type": "markdown",
   "id": "aeed4431-4560-4452-9af6-5d2ff39d38e5",
   "metadata": {},
   "source": [
    "### 1. Use DBSCAN to detect anomalies in other products from the customers dataset. The database name is grocery_db.\n"
   ]
  },
  {
   "cell_type": "code",
   "execution_count": 2,
   "id": "e8c3ec65-a64a-493a-851b-0d38b556e27d",
   "metadata": {},
   "outputs": [],
   "source": [
    "# import database\n",
    "database = 'grocery_db'\n",
    "query = 'SELECT * FROM grocery_customers'\n",
    "\n",
    "\n",
    "df = p.get_any_data(database, query)"
   ]
  },
  {
   "cell_type": "code",
   "execution_count": 3,
   "id": "5647b99d-d792-47d1-a06b-77a8d6e2d32d",
   "metadata": {},
   "outputs": [
    {
     "data": {
      "text/html": [
       "<div>\n",
       "<style scoped>\n",
       "    .dataframe tbody tr th:only-of-type {\n",
       "        vertical-align: middle;\n",
       "    }\n",
       "\n",
       "    .dataframe tbody tr th {\n",
       "        vertical-align: top;\n",
       "    }\n",
       "\n",
       "    .dataframe thead th {\n",
       "        text-align: right;\n",
       "    }\n",
       "</style>\n",
       "<table border=\"1\" class=\"dataframe\">\n",
       "  <thead>\n",
       "    <tr style=\"text-align: right;\">\n",
       "      <th></th>\n",
       "      <th>customer_id</th>\n",
       "      <th>Channel</th>\n",
       "      <th>Region</th>\n",
       "      <th>Fresh</th>\n",
       "      <th>Milk</th>\n",
       "      <th>Grocery</th>\n",
       "      <th>Frozen</th>\n",
       "      <th>Detergents_Paper</th>\n",
       "      <th>Delicassen</th>\n",
       "    </tr>\n",
       "  </thead>\n",
       "  <tbody>\n",
       "    <tr>\n",
       "      <th>0</th>\n",
       "      <td>0</td>\n",
       "      <td>2</td>\n",
       "      <td>3</td>\n",
       "      <td>12669</td>\n",
       "      <td>9656</td>\n",
       "      <td>7561</td>\n",
       "      <td>214</td>\n",
       "      <td>2674</td>\n",
       "      <td>1338</td>\n",
       "    </tr>\n",
       "    <tr>\n",
       "      <th>1</th>\n",
       "      <td>1</td>\n",
       "      <td>2</td>\n",
       "      <td>3</td>\n",
       "      <td>7057</td>\n",
       "      <td>9810</td>\n",
       "      <td>9568</td>\n",
       "      <td>1762</td>\n",
       "      <td>3293</td>\n",
       "      <td>1776</td>\n",
       "    </tr>\n",
       "    <tr>\n",
       "      <th>2</th>\n",
       "      <td>2</td>\n",
       "      <td>2</td>\n",
       "      <td>3</td>\n",
       "      <td>6353</td>\n",
       "      <td>8808</td>\n",
       "      <td>7684</td>\n",
       "      <td>2405</td>\n",
       "      <td>3516</td>\n",
       "      <td>7844</td>\n",
       "    </tr>\n",
       "    <tr>\n",
       "      <th>3</th>\n",
       "      <td>3</td>\n",
       "      <td>1</td>\n",
       "      <td>3</td>\n",
       "      <td>13265</td>\n",
       "      <td>1196</td>\n",
       "      <td>4221</td>\n",
       "      <td>6404</td>\n",
       "      <td>507</td>\n",
       "      <td>1788</td>\n",
       "    </tr>\n",
       "    <tr>\n",
       "      <th>4</th>\n",
       "      <td>4</td>\n",
       "      <td>2</td>\n",
       "      <td>3</td>\n",
       "      <td>22615</td>\n",
       "      <td>5410</td>\n",
       "      <td>7198</td>\n",
       "      <td>3915</td>\n",
       "      <td>1777</td>\n",
       "      <td>5185</td>\n",
       "    </tr>\n",
       "  </tbody>\n",
       "</table>\n",
       "</div>"
      ],
      "text/plain": [
       "   customer_id  Channel  Region  Fresh  Milk  Grocery  Frozen  \\\n",
       "0            0        2       3  12669  9656     7561     214   \n",
       "1            1        2       3   7057  9810     9568    1762   \n",
       "2            2        2       3   6353  8808     7684    2405   \n",
       "3            3        1       3  13265  1196     4221    6404   \n",
       "4            4        2       3  22615  5410     7198    3915   \n",
       "\n",
       "   Detergents_Paper  Delicassen  \n",
       "0              2674        1338  \n",
       "1              3293        1776  \n",
       "2              3516        7844  \n",
       "3               507        1788  \n",
       "4              1777        5185  "
      ]
     },
     "execution_count": 3,
     "metadata": {},
     "output_type": "execute_result"
    }
   ],
   "source": [
    "df.head()"
   ]
  },
  {
   "cell_type": "code",
   "execution_count": 4,
   "id": "87c66bac-4a85-4b97-93a2-18109b747f07",
   "metadata": {},
   "outputs": [
    {
     "name": "stdout",
     "output_type": "stream",
     "text": [
      "============== customer_id ==============\n",
      "# Unique Vals: 440\n",
      "\n",
      "============== Channel ==============\n",
      "# Unique Vals: 2\n",
      "1    298\n",
      "2    142\n",
      "Name: Channel, dtype: int64\n",
      "\n",
      "============== Region ==============\n",
      "# Unique Vals: 3\n",
      "1     77\n",
      "2     47\n",
      "3    316\n",
      "Name: Region, dtype: int64\n",
      "\n",
      "============== Fresh ==============\n",
      "# Unique Vals: 433\n",
      "\n",
      "============== Milk ==============\n",
      "# Unique Vals: 421\n",
      "\n",
      "============== Grocery ==============\n",
      "# Unique Vals: 430\n",
      "\n",
      "============== Frozen ==============\n",
      "# Unique Vals: 426\n",
      "\n",
      "============== Detergents_Paper ==============\n",
      "# Unique Vals: 417\n",
      "\n",
      "============== Delicassen ==============\n",
      "# Unique Vals: 403\n",
      "\n"
     ]
    }
   ],
   "source": [
    "p.overview(df)"
   ]
  },
  {
   "cell_type": "code",
   "execution_count": 5,
   "id": "318fd502-889b-40b7-a543-2f3211cb721d",
   "metadata": {},
   "outputs": [],
   "source": [
    "# pick features we want to look at\n",
    "selected_feats = ['Frozen', 'Grocery', 'Delicassen']"
   ]
  },
  {
   "cell_type": "code",
   "execution_count": 6,
   "id": "f5302c32-a709-4c34-8c02-46c4877d7007",
   "metadata": {},
   "outputs": [],
   "source": [
    "# pretend we are already working with just the train set\n",
    "\n",
    "# create dataframe with selected features\n",
    "selected_feats_df = df[selected_feats]"
   ]
  },
  {
   "cell_type": "code",
   "execution_count": 7,
   "id": "e82d34c4-9249-4358-aa5a-cae3ce61b5df",
   "metadata": {},
   "outputs": [
    {
     "data": {
      "text/plain": [
       "array([[0.0031063 , 0.08146416, 0.02784731],\n",
       "       [0.02854842, 0.10309667, 0.03698373],\n",
       "       [0.03911643, 0.08278992, 0.16355861],\n",
       "       ...,\n",
       "       [0.00677142, 0.32594285, 0.03888194],\n",
       "       [0.01664914, 0.02402535, 0.04426366],\n",
       "       [0.00065742, 0.02702178, 0.00102211]])"
      ]
     },
     "execution_count": 7,
     "metadata": {},
     "output_type": "execute_result"
    }
   ],
   "source": [
    "# scale data\n",
    "# make scaler\n",
    "mm_scaler = MinMaxScaler()\n",
    "\n",
    "# fit scaler\n",
    "mm_scaler.fit(selected_feats_df)\n",
    "\n",
    "# use scaler\n",
    "selected_feats_df = mm_scaler.fit_transform(selected_feats_df)\n",
    "\n",
    "selected_feats_df"
   ]
  },
  {
   "cell_type": "code",
   "execution_count": 8,
   "id": "687890a2-b4eb-46c9-9204-22556f728eb2",
   "metadata": {},
   "outputs": [
    {
     "data": {
      "text/plain": [
       "DBSCAN(eps=0.1, min_samples=20)"
      ]
     },
     "execution_count": 8,
     "metadata": {},
     "output_type": "execute_result"
    }
   ],
   "source": [
    "# DBSCAN\n",
    "\n",
    "# make dbScan\n",
    "dbscan = DBSCAN(eps = 0.1, min_samples=20)\n",
    "\n",
    "# fit dbscan\n",
    "dbscan.fit(selected_feats_df)"
   ]
  },
  {
   "cell_type": "code",
   "execution_count": 9,
   "id": "7ffb076e-d540-4386-8824-b5e61bc843e4",
   "metadata": {},
   "outputs": [
    {
     "data": {
      "text/html": [
       "<div>\n",
       "<style scoped>\n",
       "    .dataframe tbody tr th:only-of-type {\n",
       "        vertical-align: middle;\n",
       "    }\n",
       "\n",
       "    .dataframe tbody tr th {\n",
       "        vertical-align: top;\n",
       "    }\n",
       "\n",
       "    .dataframe thead th {\n",
       "        text-align: right;\n",
       "    }\n",
       "</style>\n",
       "<table border=\"1\" class=\"dataframe\">\n",
       "  <thead>\n",
       "    <tr style=\"text-align: right;\">\n",
       "      <th></th>\n",
       "      <th>customer_id</th>\n",
       "      <th>Channel</th>\n",
       "      <th>Region</th>\n",
       "      <th>Fresh</th>\n",
       "      <th>Milk</th>\n",
       "      <th>Grocery</th>\n",
       "      <th>Frozen</th>\n",
       "      <th>Detergents_Paper</th>\n",
       "      <th>Delicassen</th>\n",
       "      <th>Scaled_Frozen</th>\n",
       "      <th>Scaled_Grocery</th>\n",
       "      <th>Scaled_Delicassen</th>\n",
       "    </tr>\n",
       "  </thead>\n",
       "  <tbody>\n",
       "    <tr>\n",
       "      <th>0</th>\n",
       "      <td>0</td>\n",
       "      <td>2</td>\n",
       "      <td>3</td>\n",
       "      <td>12669</td>\n",
       "      <td>9656</td>\n",
       "      <td>7561</td>\n",
       "      <td>214</td>\n",
       "      <td>2674</td>\n",
       "      <td>1338</td>\n",
       "      <td>0.003106</td>\n",
       "      <td>0.081464</td>\n",
       "      <td>0.027847</td>\n",
       "    </tr>\n",
       "    <tr>\n",
       "      <th>1</th>\n",
       "      <td>1</td>\n",
       "      <td>2</td>\n",
       "      <td>3</td>\n",
       "      <td>7057</td>\n",
       "      <td>9810</td>\n",
       "      <td>9568</td>\n",
       "      <td>1762</td>\n",
       "      <td>3293</td>\n",
       "      <td>1776</td>\n",
       "      <td>0.028548</td>\n",
       "      <td>0.103097</td>\n",
       "      <td>0.036984</td>\n",
       "    </tr>\n",
       "    <tr>\n",
       "      <th>2</th>\n",
       "      <td>2</td>\n",
       "      <td>2</td>\n",
       "      <td>3</td>\n",
       "      <td>6353</td>\n",
       "      <td>8808</td>\n",
       "      <td>7684</td>\n",
       "      <td>2405</td>\n",
       "      <td>3516</td>\n",
       "      <td>7844</td>\n",
       "      <td>0.039116</td>\n",
       "      <td>0.082790</td>\n",
       "      <td>0.163559</td>\n",
       "    </tr>\n",
       "    <tr>\n",
       "      <th>3</th>\n",
       "      <td>3</td>\n",
       "      <td>1</td>\n",
       "      <td>3</td>\n",
       "      <td>13265</td>\n",
       "      <td>1196</td>\n",
       "      <td>4221</td>\n",
       "      <td>6404</td>\n",
       "      <td>507</td>\n",
       "      <td>1788</td>\n",
       "      <td>0.104842</td>\n",
       "      <td>0.045464</td>\n",
       "      <td>0.037234</td>\n",
       "    </tr>\n",
       "    <tr>\n",
       "      <th>4</th>\n",
       "      <td>4</td>\n",
       "      <td>2</td>\n",
       "      <td>3</td>\n",
       "      <td>22615</td>\n",
       "      <td>5410</td>\n",
       "      <td>7198</td>\n",
       "      <td>3915</td>\n",
       "      <td>1777</td>\n",
       "      <td>5185</td>\n",
       "      <td>0.063934</td>\n",
       "      <td>0.077552</td>\n",
       "      <td>0.108093</td>\n",
       "    </tr>\n",
       "  </tbody>\n",
       "</table>\n",
       "</div>"
      ],
      "text/plain": [
       "   customer_id  Channel  Region  Fresh  Milk  Grocery  Frozen  \\\n",
       "0            0        2       3  12669  9656     7561     214   \n",
       "1            1        2       3   7057  9810     9568    1762   \n",
       "2            2        2       3   6353  8808     7684    2405   \n",
       "3            3        1       3  13265  1196     4221    6404   \n",
       "4            4        2       3  22615  5410     7198    3915   \n",
       "\n",
       "   Detergents_Paper  Delicassen  Scaled_Frozen  Scaled_Grocery  \\\n",
       "0              2674        1338       0.003106        0.081464   \n",
       "1              3293        1776       0.028548        0.103097   \n",
       "2              3516        7844       0.039116        0.082790   \n",
       "3               507        1788       0.104842        0.045464   \n",
       "4              1777        5185       0.063934        0.077552   \n",
       "\n",
       "   Scaled_Delicassen  \n",
       "0           0.027847  \n",
       "1           0.036984  \n",
       "2           0.163559  \n",
       "3           0.037234  \n",
       "4           0.108093  "
      ]
     },
     "execution_count": 9,
     "metadata": {},
     "output_type": "execute_result"
    }
   ],
   "source": [
    "# Now, let's add the scaled value columns back onto the dataframe\n",
    "scaled_columns = [\"Scaled_\" + feat for feat in selected_feats]\n",
    "\n",
    "# Save a copy of the original dataframe\n",
    "original_df = df.copy()\n",
    "\n",
    "# Create a dataframe containing the scaled values\n",
    "scaled_df = pd.DataFrame(selected_feats_df, columns=scaled_columns)\n",
    "\n",
    "# Merge the scaled and non-scaled values into one dataframe\n",
    "df = df.merge(scaled_df, on=df.index)\n",
    "df = df.drop(columns=['key_0'])\n",
    "df.head()"
   ]
  },
  {
   "cell_type": "code",
   "execution_count": 10,
   "id": "21d27282-888b-4503-878c-371905db5ca2",
   "metadata": {},
   "outputs": [
    {
     "data": {
      "text/plain": [
       "array([ 0,  0,  0,  0,  0,  0,  0,  0,  0,  0,  0,  0,  0,  0,  0,  0,  0,\n",
       "        0,  0,  0,  0,  0,  0, -1,  0,  0,  0,  0,  0,  0,  0,  0,  0,  0,\n",
       "        0,  0,  0,  0,  0,  0,  0,  0,  0,  0,  0,  0,  0, -1,  0,  0,  0,\n",
       "        0,  0,  0,  0,  0,  0,  0,  0,  0,  0, -1,  0,  0,  0, -1,  0,  0,\n",
       "        0,  0,  0, -1,  0,  0,  0,  0,  0,  0,  0,  0,  0,  0,  0,  0,  0,\n",
       "       -1,  0, -1,  0,  0,  0,  0,  0, -1,  0,  0,  0,  0,  0,  0,  0,  0,\n",
       "        0,  0,  0,  0,  0,  0,  0,  0,  0,  0,  0,  0,  0,  0,  0,  0,  0,\n",
       "        0,  0,  0,  0,  0,  0,  0,  0,  0,  0,  0,  0,  0,  0,  0,  0,  0,\n",
       "        0,  0,  0,  0,  0,  0,  0,  0,  0,  0,  0,  0,  0,  0,  0,  0,  0,\n",
       "        0,  0,  0,  0,  0,  0,  0,  0,  0,  0,  0,  0,  0,  0,  0,  0,  0,\n",
       "        0,  0,  0,  0,  0,  0,  0,  0,  0,  0,  0, -1,  0, -1,  0,  0,  0,\n",
       "        0,  0,  0,  0,  0,  0,  0,  0,  0,  0,  0,  0,  0,  0,  0,  0,  0,\n",
       "        0,  0,  0,  0,  0,  0,  0, -1,  0,  0,  0,  0,  0,  0,  0,  0,  0,\n",
       "        0,  0,  0,  0,  0,  0,  0,  0,  0,  0,  0,  0,  0,  0,  0,  0,  0,\n",
       "        0,  0,  0,  0,  0,  0,  0,  0,  0,  0,  0,  0,  0, -1,  0,  0,  0,\n",
       "        0,  0,  0,  0,  0,  0,  0,  0,  0,  0,  0,  0,  0,  0,  0,  0,  0,\n",
       "        0,  0,  0,  0,  0,  0,  0,  0,  0,  0,  0,  0,  0,  0,  0,  0,  0,\n",
       "        0,  0,  0,  0,  0,  0,  0,  0,  0,  0,  0,  0,  0,  0,  0,  0,  0,\n",
       "        0,  0,  0,  0,  0,  0,  0,  0,  0,  0,  0,  0,  0,  0,  0,  0,  0,\n",
       "        0,  0, -1,  0,  0,  0,  0,  0,  0,  0, -1,  0,  0,  0,  0,  0,  0,\n",
       "        0,  0,  0,  0,  0,  0,  0,  0,  0,  0,  0,  0,  0,  0,  0,  0,  0,\n",
       "        0,  0,  0,  0,  0,  0,  0,  0,  0,  0,  0,  0,  0,  0,  0,  0,  0,\n",
       "        0,  0,  0,  0,  0,  0,  0,  0,  0,  0,  0,  0,  0,  0,  0,  0,  0,\n",
       "        0,  0,  0,  0,  0,  0,  0,  0,  0,  0,  0,  0,  0,  0,  0,  0,  0,\n",
       "        0,  0,  0,  0,  0,  0,  0,  0,  0,  0,  0,  0,  0,  0,  0,  0,  0,\n",
       "        0,  0,  0,  0,  0,  0,  0,  0,  0,  0,  0,  0,  0,  0,  0])"
      ]
     },
     "execution_count": 10,
     "metadata": {},
     "output_type": "execute_result"
    }
   ],
   "source": [
    "# lets look at the lables\n",
    "dbscan.labels_"
   ]
  },
  {
   "cell_type": "code",
   "execution_count": 11,
   "id": "c5ed6a70-6b00-4b13-88f6-85e6a2e70b23",
   "metadata": {},
   "outputs": [
    {
     "data": {
      "text/plain": [
       " 0    426\n",
       "-1     14\n",
       "Name: labels, dtype: int64"
      ]
     },
     "execution_count": 11,
     "metadata": {},
     "output_type": "execute_result"
    }
   ],
   "source": [
    "# add labels to dataframe\n",
    "df['labels'] = dbscan.labels_\n",
    "df.labels.value_counts()"
   ]
  },
  {
   "cell_type": "markdown",
   "id": "c1e66fa4-46d0-47c7-890e-f2cbd42cb95c",
   "metadata": {},
   "source": [
    "- Looks like there is 1 cluster (0)\n",
    "- And there are 14 outliers \n",
    "- Next step to visualize"
   ]
  },
  {
   "cell_type": "code",
   "execution_count": 12,
   "id": "0b1dcda2-ae0c-4eb2-83d5-4311ef798b0e",
   "metadata": {},
   "outputs": [
    {
     "data": {
      "text/plain": [
       "<AxesSubplot:xlabel='Frozen', ylabel='Grocery'>"
      ]
     },
     "execution_count": 12,
     "metadata": {},
     "output_type": "execute_result"
    },
    {
     "data": {
      "image/png": "[encoded data removed]",
      "text/plain": [
       "<Figure size 432x288 with 1 Axes>"
      ]
     },
     "metadata": {
      "needs_background": "light"
     },
     "output_type": "display_data"
    }
   ],
   "source": [
    "# scatter plot of 2 of the variables \n",
    "%matplotlib inline\n",
    "sns.scatterplot(data = df, x = 'Frozen', y = 'Grocery', hue = 'labels')"
   ]
  },
  {
   "cell_type": "code",
   "execution_count": 13,
   "id": "0f740d70-e577-4877-8cd9-6df69be0cd6e",
   "metadata": {},
   "outputs": [
    {
     "data": {
      "text/plain": [
       "<AxesSubplot:xlabel='Frozen', ylabel='Delicassen'>"
      ]
     },
     "execution_count": 13,
     "metadata": {},
     "output_type": "execute_result"
    },
    {
     "data": {
      "image/png": "[encoded data removed]",
      "text/plain": [
       "<Figure size 432x288 with 1 Axes>"
      ]
     },
     "metadata": {
      "needs_background": "light"
     },
     "output_type": "display_data"
    }
   ],
   "source": [
    "sns.scatterplot(data = df, x = 'Frozen', y = 'Delicassen', hue = 'labels')"
   ]
  },
  {
   "cell_type": "code",
   "execution_count": 14,
   "id": "5a75d929-d5c6-42e0-bcc8-2618c5a1d858",
   "metadata": {},
   "outputs": [
    {
     "data": {
      "text/plain": [
       "<AxesSubplot:xlabel='Grocery', ylabel='Delicassen'>"
      ]
     },
     "execution_count": 14,
     "metadata": {},
     "output_type": "execute_result"
    },
    {
     "data": {
      "image/png": "[encoded data removed]",
      "text/plain": [
       "<Figure size 432x288 with 1 Axes>"
      ]
     },
     "metadata": {
      "needs_background": "light"
     },
     "output_type": "display_data"
    }
   ],
   "source": [
    "sns.scatterplot(data = df, x = 'Grocery', y = 'Delicassen', hue = 'labels')"
   ]
  },
  {
   "cell_type": "code",
   "execution_count": 15,
   "id": "31ba2b00-b83b-474e-92ff-27572fa8a960",
   "metadata": {},
   "outputs": [
    {
     "data": {
      "text/plain": [
       "[Text(-10000.0, 0, ''),\n",
       " Text(0.0, 0, ''),\n",
       " Text(10000.0, 0, ''),\n",
       " Text(20000.0, 0, ''),\n",
       " Text(30000.0, 0, ''),\n",
       " Text(40000.0, 0, ''),\n",
       " Text(50000.0, 0, ''),\n",
       " Text(60000.0, 0, '')]"
      ]
     },
     "execution_count": 15,
     "metadata": {},
     "output_type": "execute_result"
    }
   ],
   "source": [
    "# try 3d plotting \n",
    "# will create popout (need to comment out when you want to graph again)\n",
    "%matplotlib qt\n",
    "\n",
    "\n",
    "# set up figure\n",
    "fig = plt.figure(1, figsize = (10,10))\n",
    "\n",
    "# wrap in 3d axis\n",
    "ax = Axes3D(fig)\n",
    "\n",
    "# plot scatter using ax object\n",
    "ax.scatter(df.Frozen,\n",
    "          df.Grocery,\n",
    "          df.Delicassen,\n",
    "          c = df.labels,\n",
    "          edgecolor = 'k')\n",
    "\n",
    "ax.set_xlabel('Frozen')\n",
    "ax.set_ylabel('Grocery')\n",
    "ax.set_zlabel('Delicassen')\n",
    "\n",
    "ax.w_xaxis.set_ticklabels([])\n",
    "ax.w_yaxis.set_ticklabels([])\n",
    "ax.w_zaxis.set_ticklabels([])\n"
   ]
  },
  {
   "cell_type": "markdown",
   "id": "45770191-9a29-43e3-9947-5c99f9f4fa8f",
   "metadata": {},
   "source": [
    "### Takeaways\n",
    "- Seems to be some points that aren't actually outliers\n",
    "- Will run again tweaking the hyper parameters"
   ]
  },
  {
   "cell_type": "code",
   "execution_count": 16,
   "id": "0f4b9b73-2919-47a3-a9d7-2c85e308b0f8",
   "metadata": {},
   "outputs": [
    {
     "data": {
      "text/plain": [
       "DBSCAN(eps=0.2, min_samples=20)"
      ]
     },
     "execution_count": 16,
     "metadata": {},
     "output_type": "execute_result"
    }
   ],
   "source": [
    "# DBSCAN with eps as 0.2\n",
    "\n",
    "# make dbScan\n",
    "dbscan = DBSCAN(eps = 0.2, min_samples=20)\n",
    "\n",
    "# fit dbscan\n",
    "dbscan.fit(selected_feats_df)"
   ]
  },
  {
   "cell_type": "code",
   "execution_count": 17,
   "id": "f55c842d-ca76-4e68-9dd1-1eff72290ae4",
   "metadata": {},
   "outputs": [
    {
     "data": {
      "text/plain": [
       " 0    426\n",
       "-1     14\n",
       "Name: labels, dtype: int64"
      ]
     },
     "execution_count": 17,
     "metadata": {},
     "output_type": "execute_result"
    }
   ],
   "source": [
    "# add labels to dataframe\n",
    "df['labels2'] = dbscan.labels_\n",
    "df.labels.value_counts()"
   ]
  },
  {
   "cell_type": "code",
   "execution_count": 18,
   "id": "599f1a08-bc6b-437c-85ca-56f71a15fe7d",
   "metadata": {},
   "outputs": [
    {
     "data": {
      "text/plain": [
       "DBSCAN(eps=0.7)"
      ]
     },
     "execution_count": 18,
     "metadata": {},
     "output_type": "execute_result"
    }
   ],
   "source": [
    "# DBSCAN with different hyper parameters\n",
    "\n",
    "# make dbScan\n",
    "dbscan = DBSCAN(eps = 0.7, min_samples=5)\n",
    "\n",
    "# fit dbscan\n",
    "dbscan.fit(selected_feats_df)"
   ]
  },
  {
   "cell_type": "code",
   "execution_count": 19,
   "id": "20dba71b-db65-4f4a-bee7-36cba324f935",
   "metadata": {},
   "outputs": [
    {
     "data": {
      "text/plain": [
       " 0    426\n",
       "-1     14\n",
       "Name: labels, dtype: int64"
      ]
     },
     "execution_count": 19,
     "metadata": {},
     "output_type": "execute_result"
    }
   ],
   "source": [
    "# add labels to dataframe\n",
    "df['labels2'] = dbscan.labels_\n",
    "df.labels.value_counts()"
   ]
  },
  {
   "cell_type": "markdown",
   "id": "0775b2e4-f936-4e52-abfb-86cb4dc810eb",
   "metadata": {},
   "source": [
    "### Takeaways Hyperparameters\n",
    "- Looks like when I change the hyper parameters there are still 14 outliers\n",
    "- Would have to look into some dbscan model selector stuff to see how to run through those hyper parameters"
   ]
  },
  {
   "cell_type": "markdown",
   "id": "e53bd618-47cb-445c-b5a6-187d3c8d0418",
   "metadata": {},
   "source": [
    "### 2. Use DBSCAN to detect anomalies in requests from the curriculum access logs in the curriculum_logs database.\n"
   ]
  },
  {
   "cell_type": "code",
   "execution_count": null,
   "id": "40c3057f-9eb4-48a3-882a-0f70628b5445",
   "metadata": {},
   "outputs": [],
   "source": []
  },
  {
   "cell_type": "code",
   "execution_count": null,
   "id": "1c94188f-d560-449e-b722-60745cacb3a3",
   "metadata": {},
   "outputs": [],
   "source": []
  },
  {
   "cell_type": "code",
   "execution_count": null,
   "id": "6a8bb919-bf86-4c48-9918-4489cb2588da",
   "metadata": {},
   "outputs": [],
   "source": []
  },
  {
   "cell_type": "code",
   "execution_count": null,
   "id": "ee7502b7-9bcc-4810-939a-afbb38b1e9d3",
   "metadata": {},
   "outputs": [],
   "source": []
  },
  {
   "cell_type": "markdown",
   "id": "687b45f4-f398-4a7b-87bf-7de424d522ce",
   "metadata": {},
   "source": [
    "### 3. Use DBSCAN to detect anomalies in number of bedrooms and finished square feet of property for the filtered dataset you used in the clustering project (single unit properties with a logerror)."
   ]
  },
  {
   "cell_type": "code",
   "execution_count": null,
   "id": "0554abe5-bbf1-4ce9-8f52-70acd21c6cfb",
   "metadata": {},
   "outputs": [],
   "source": []
  }
 ],
 "metadata": {
  "kernelspec": {
   "display_name": "Python 3",
   "language": "python",
   "name": "python3"
  },
  "language_info": {
   "codemirror_mode": {
    "name": "ipython",
    "version": 3
   },
   "file_extension": ".py",
   "mimetype": "text/x-python",
   "name": "python",
   "nbconvert_exporter": "python",
   "pygments_lexer": "ipython3",
   "version": "3.8.5"
  }
 },
 "nbformat": 4,
 "nbformat_minor": 5
}
